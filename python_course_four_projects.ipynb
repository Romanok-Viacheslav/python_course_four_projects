{
  "nbformat": 4,
  "nbformat_minor": 0,
  "metadata": {
    "colab": {
      "provenance": []
    },
    "kernelspec": {
      "name": "python3",
      "display_name": "Python 3"
    },
    "language_info": {
      "name": "python"
    }
  },
  "cells": [
    {
      "cell_type": "markdown",
      "source": [
        "# Проект №1 - Шифр Цезаря"
      ],
      "metadata": {
        "id": "D1LLOBSTJ1nR"
      }
    },
    {
      "cell_type": "markdown",
      "source": [
        "Даний проект є реалізацією шифру Цезаря, простого методу шифрування, що базується на зсуві кожної літери тексту на фіксовану кількість позицій у алфавіті. Програма підтримує як шифрування, так і дешифрування тексту з використанням заданого кроку зсуву. Літери великих та малих регістрів обробляються окремо. У випадку, якщо символ не є літерою, він залишається без змін. Остаточний результат виводиться на екран користувача."
      ],
      "metadata": {
        "id": "HN1oBqLqJquJ"
      }
    },
    {
      "cell_type": "code",
      "execution_count": 32,
      "metadata": {
        "colab": {
          "base_uri": "https://localhost:8080/"
        },
        "id": "0N4WlWvFD890",
        "outputId": "cc61aacf-37d3-443d-8efe-283393189490"
      },
      "outputs": [
        {
          "output_type": "stream",
          "name": "stdout",
          "text": [
            "Шифр Цезаря\n",
            "Шифрувати або дешифрувати текст? (encrypt/decrypt): decrypt\n",
            "Введіть крок зсуву: 3\n",
            "Введіть текст: Wkh gdun vlgh ri wkh prrq\n",
            "Результат: The dark side of the moon\n"
          ]
        }
      ],
      "source": [
        "print(\"Шифр Цезаря\")\n",
        "\n",
        "alphabet_lower = 'abcdefghijklmnopqrstuvwxyz'\n",
        "alphabet_upper = 'ABCDEFGHIJKLMNOPQRSTUVWXYZ'\n",
        "\n",
        "encrypt_decrypt = input(\"Шифрувати або дешифрувати текст? (encrypt/decrypt): \")\n",
        "shear_step = int(input(\"Введіть крок зсуву: \"))\n",
        "input_text = input(\"Введіть текст: \")\n",
        "\n",
        "result = ''\n",
        "\n",
        "for char in input_text:\n",
        "    if char.isalpha():\n",
        "        if char.islower():\n",
        "            result += alphabet_lower[(alphabet_lower.index(char) + shear_step) % 26] if encrypt_decrypt == 'encrypt' else alphabet_lower[(alphabet_lower.index(char) - shear_step) % 26]\n",
        "        elif char.isupper():\n",
        "            result += alphabet_upper[(alphabet_upper.index(char) + shear_step) % 26] if encrypt_decrypt == 'encrypt' else alphabet_upper[(alphabet_upper.index(char) - shear_step) % 26]\n",
        "    else:\n",
        "        result += char\n",
        "\n",
        "print(f\"Результат: {result}\")"
      ]
    },
    {
      "cell_type": "markdown",
      "source": [
        "# Проект №2 - Числова угадайка"
      ],
      "metadata": {
        "id": "gYYciHDoKMO1"
      }
    },
    {
      "cell_type": "markdown",
      "source": [
        "Цей проект є реалізацією простої гри \"Числова угадайка\" на мові програмування Python. Гравець має спробувати вгадати випадкове число, яке генерується в межах, вказаних користувачем. Програма спочатку запитує користувача про верхню межу для випадкового числа, після чого встановлює початкові значення для лівої та правої межі."
      ],
      "metadata": {
        "id": "53EIMK-NZSvX"
      }
    },
    {
      "cell_type": "code",
      "source": [
        "import random\n",
        "print(\"Ласкаво просимо в Числову Угадайку!\")\n",
        "\n",
        "right = int(input(\"Введіть верхню межу для випадкового числа:\"))\n",
        "left = 1\n",
        "random_number = random.randint(left, right)\n",
        "attempts = 0\n",
        "\n",
        "random_number = random.randint(1, right)\n",
        "\n",
        "while True:\n",
        "    guess = input(f\"Спробуйте вгадати число від {left} до {right}: \")\n",
        "\n",
        "    if not guess.isdigit():\n",
        "        print(\"Ви ввели некоректні дані. Будь ласка, введіть ціле число.\")\n",
        "        continue\n",
        "\n",
        "    guess = int(guess)\n",
        "    attempts += 1\n",
        "\n",
        "    if guess < left or guess > right:\n",
        "        print(f\"Ви ввели неправильне число. Введіть значення від {left} до {right}.\")\n",
        "        continue\n",
        "\n",
        "    if guess < random_number:\n",
        "        print(\"Число занадто маленьке, спробуй ще раз!\")\n",
        "        left = guess + 1\n",
        "    elif guess > random_number:\n",
        "        print(\"Число занадто велике, спробуй ще раз!\")\n",
        "        right = guess - 1\n",
        "    else:\n",
        "        print(f\"Ви відгадали, вітаємо! Кількість спроб: {attempts}.\")\n",
        "        break\n",
        "\n",
        "print(\"Дякуємо, що грали в Числову Угадайку. Ще побачимося...\")"
      ],
      "metadata": {
        "colab": {
          "base_uri": "https://localhost:8080/"
        },
        "id": "nG3mClLdNX1c",
        "outputId": "ebdaa53e-2979-4a3d-ea70-5d7ee2fcaced"
      },
      "execution_count": null,
      "outputs": [
        {
          "output_type": "stream",
          "name": "stdout",
          "text": [
            "Ласкаво просимо в Числову Угадайку!\n",
            "Введіть верхню межу для випадкового числа:100\n",
            "Спробуйте вгадати число від 1 до 100: 50\n",
            "Число занадто маленьке, спробуй ще раз!\n",
            "Спробуйте вгадати число від 51 до 100: 5\n",
            "Ви ввели неправильне число. Введіть значення від 51 до 100.\n",
            "Спробуйте вгадати число від 51 до 100: 75\n",
            "Число занадто маленьке, спробуй ще раз!\n",
            "Спробуйте вгадати число від 76 до 100: 85\n",
            "Число занадто велике, спробуй ще раз!\n",
            "Спробуйте вгадати число від 76 до 84: 80\n",
            "Ви відгадали, вітаємо! Кількість спроб: 5.\n",
            "Дякуємо, що грали в Числову Угадайку. Ще побачимося...\n"
          ]
        }
      ]
    },
    {
      "cell_type": "markdown",
      "source": [
        "# Проект №3 - Магічна куля"
      ],
      "metadata": {
        "id": "Wtw-5TQTaC2J"
      }
    },
    {
      "cell_type": "markdown",
      "source": [
        "Програма реалізує концепцію \"Магічна куля\", яка випадковим чином вибирає відповідь на питання користувача зі списку заздалегідь підготовлених відповідей."
      ],
      "metadata": {
        "id": "QPwkWLUBe3FT"
      }
    },
    {
      "cell_type": "code",
      "source": [
        "import random\n",
        "\n",
        "answers = [\"Безперечно\", \"Вирішено\", \"Жодних сумнівів\", \"Безумовно так\", \"Можеш бути впевнений у цьому\",\n",
        "           \"Мені здається так\", \"Ймовірніше за все\", \"Хороші перспективи\", \"Знаки кажуть - так\", \"Так\",\n",
        "           \"Поки неясно спробуй знову\", \"Запитай пізніше\", \"Краще не розповідати\", \"Зараз не можна передбачити\",\n",
        "           \"Сконцентруйся і спитай знову\", \"Навіть недумай\", \"Моя відповідь ні\", \"За моїми даними – ні\",\n",
        "           \"Перспективи не дуже добрі\", \"Дуже сумнівно\"]\n",
        "\n",
        "print(\"ПРИВІТ, Я МАГІЧНА КУЛЯ, І Я ЗНАЮ ВІДПОВІДЬ НА БУДЬ-ЯКЕ ТВОЄ ЗАПИТАННЯ\")\n",
        "name = input(\"Як тебе звати? \")\n",
        "print(f\"Привіт, {name}!\")\n",
        "\n",
        "while True:\n",
        "    question = input(\"Задай мені своє запитання: \")\n",
        "    print(f\"Моя відповідь: {random.choice(answers)}\")\n",
        "    another = input(\"Хочеш задати ще одне питання? (Так/Ні): \")\n",
        "    if another.lower() != \"так\"\n",
        "        print(\"Повертайся, якщо виникнуть запитання!\")\n",
        "        break"
      ],
      "metadata": {
        "colab": {
          "base_uri": "https://localhost:8080/"
        },
        "id": "xozULNjxZ_fI",
        "outputId": "ce4e75d2-214a-4321-c08e-5a76a60aa3ba"
      },
      "execution_count": null,
      "outputs": [
        {
          "output_type": "stream",
          "name": "stdout",
          "text": [
            "ПРИВІТ, Я МАГІЧНА КУЛЯ, І Я ЗНАЮ ВІДПОВІДЬ НА БУДЬ-ЯКЕ ТВОЄ ЗАПИТАННЯ\n",
            "Як тебе звати? Romanok Viacheslav\n",
            "Привіт, Romanok Viacheslav!\n",
            "Задай мені своє запитання: Чи видадуть мені сертифікат?\n",
            "Моя відповідь: Знаки кажуть - так\n",
            "Хочеш задати ще одне питання? (Так/Ні): Так\n",
            "Задай мені своє запитання: Точно?\n",
            "Моя відповідь: Навіть недумай\n",
            "Хочеш задати ще одне питання? (Так/Ні): НІ\n",
            "Повертайся, якщо виникнуть запитання!\n"
          ]
        }
      ]
    },
    {
      "cell_type": "markdown",
      "source": [
        "Як ми бачимо знаки кажуть, що сертифікат я отримаю й навіть думати про інше не варто."
      ],
      "metadata": {
        "id": "5veTzoFseeR4"
      }
    },
    {
      "cell_type": "markdown",
      "source": [
        "# Проект №4 - Генератор паролів"
      ],
      "metadata": {
        "id": "KOLBxQHSihRO"
      }
    },
    {
      "cell_type": "markdown",
      "source": [
        "Програма для генерації випадкових паролів з використанням різноманітних символів згідно з вказаними користувачем умовами.\n"
      ],
      "metadata": {
        "id": "L05HilvYiuKA"
      }
    },
    {
      "cell_type": "code",
      "source": [
        "import random\n",
        "\n",
        "Digits = '0123456789'\n",
        "Lowercase_letters = 'abcdefghijklmnopqrstuvwxyz'\n",
        "Uppercase_letters = 'ABCDEFGHIJKLMNOPQRSTUVWXYZ'\n",
        "Punctuation = '!#$%&*+-=?@^_'\n",
        "\n",
        "chars = ''\n",
        "\n",
        "num_passwords = int(input(\"Введіть кількість паролів для генерації: \"))\n",
        "length = int(input(\"Введіть довжину пароля: \"))\n",
        "include_digits = input(\"Включити цифри (0-9)? (так/ні): \").lower() == 'так'\n",
        "include_lowercase = input(\"Включити малі літери (a-z)? (так/ні): \").lower() == 'так'\n",
        "include_uppercase = input(\"Включити великі літери (A-Z)? (так/ні): \").lower() == 'так'\n",
        "include_punctuation = input(\"Включити пунктуацію (!#$%&*+-=?@^_)? (так/ні): \").lower() == 'так'\n",
        "\n",
        "if include_digits:\n",
        "    chars += Digits\n",
        "if include_lowercase:\n",
        "    chars += Lowercase_letters\n",
        "if include_uppercase:\n",
        "    chars += Uppercase_letters\n",
        "if include_punctuation:\n",
        "    chars += Punctuation\n",
        "\n",
        "for i in range(num_passwords):\n",
        "    password = ''.join(random.choice(chars) for i in range(length))\n",
        "    print(password)"
      ],
      "metadata": {
        "colab": {
          "base_uri": "https://localhost:8080/"
        },
        "id": "OLwGD_SHfFYY",
        "outputId": "8b93d67a-5c14-4c45-e8b2-2134d1bd6aee"
      },
      "execution_count": null,
      "outputs": [
        {
          "output_type": "stream",
          "name": "stdout",
          "text": [
            "Введіть кількість паролів для генерації: 10\n",
            "Введіть довжину пароля: 20\n",
            "Включити цифри (0-9)? (так/ні): так\n",
            "Включити малі літери (a-z)? (так/ні): так\n",
            "Включити великі літери (A-Z)? (так/ні): так\n",
            "Включити пунктуацію (!#$%&*+-=?@^_)? (так/ні): так\n",
            "sN^X@_OA^pg^&NWKm!wh\n",
            "&3SUKvK87UX#OAXuxB4n\n",
            "clZsN40Y?5@@lyC^T^lX\n",
            "Op2A5Vtr19Q%8B*Q9l&B\n",
            "1^DIp*eSu*3rmLKGSxkQ\n",
            "o#h2kIB$HmEI9@Y&Nk%D\n",
            "I2M1?JXL$wsLT8?i3^^N\n",
            "R$2oCzkinUoIAKcrIBX6\n",
            "n6+ypO+!K3QKli9sRwia\n",
            "WXNpZ^czfi#j?fGVy*8#\n"
          ]
        }
      ]
    }
  ]
}